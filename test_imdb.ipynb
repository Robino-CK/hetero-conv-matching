{
 "cells": [
  {
   "cell_type": "code",
   "execution_count": 3,
   "id": "1995cd4a",
   "metadata": {},
   "outputs": [
    {
     "name": "stderr",
     "output_type": "stream",
     "text": [
      "/home/robin/uu/thesis/hetero-conv-matching/.venv/lib/python3.10/site-packages/tqdm/auto.py:22: TqdmWarning: IProgress not found. Please update jupyter and ipywidgets. See https://ipywidgets.readthedocs.io/en/stable/user_install.html\n",
      "  from .autonotebook import tqdm as notebook_tqdm\n",
      "WARNING:root:The OGB package is out of date. Your version is 1.3.4, while the latest version is 1.3.6.\n"
     ]
    }
   ],
   "source": [
    "from Data.IMDB import IMDB"
   ]
  },
  {
   "cell_type": "code",
   "execution_count": 4,
   "id": "c331686e",
   "metadata": {},
   "outputs": [],
   "source": [
    "imdb = IMDB()\n",
    "original_graph = imdb.load_graph()"
   ]
  },
  {
   "cell_type": "code",
   "execution_count": 5,
   "id": "fbe0b40a",
   "metadata": {},
   "outputs": [
    {
     "data": {
      "text/plain": [
       "Graph(num_nodes={'actor': 5257, 'director': 2081, 'movie': 4278},\n",
       "      num_edges={('actor', 'actortomovie', 'movie'): 12828, ('director', 'directortomovie', 'movie'): 4278, ('movie', 'movietoactor', 'actor'): 12828, ('movie', 'movietodirector', 'director'): 4278},\n",
       "      metagraph=[('actor', 'movie', 'actortomovie'), ('movie', 'actor', 'movietoactor'), ('movie', 'director', 'movietodirector'), ('director', 'movie', 'directortomovie')])"
      ]
     },
     "execution_count": 5,
     "metadata": {},
     "output_type": "execute_result"
    }
   ],
   "source": [
    "original_graph"
   ]
  },
  {
   "cell_type": "code",
   "execution_count": null,
   "id": "dd35ffd0",
   "metadata": {},
   "outputs": [],
   "source": [
    "num_nearest_init_neighbors_per_type = {\"actortomovie\": 5, \"directortomovie\": 5, \"movietoactor\":5, \"movietodirector\":5 }\n"
   ]
  }
 ],
 "metadata": {
  "kernelspec": {
   "display_name": ".venv",
   "language": "python",
   "name": "python3"
  },
  "language_info": {
   "codemirror_mode": {
    "name": "ipython",
    "version": 3
   },
   "file_extension": ".py",
   "mimetype": "text/x-python",
   "name": "python",
   "nbconvert_exporter": "python",
   "pygments_lexer": "ipython3",
   "version": "3.10.12"
  }
 },
 "nbformat": 4,
 "nbformat_minor": 5
}
