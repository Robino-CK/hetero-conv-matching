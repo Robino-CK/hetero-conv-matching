{
 "cells": [
  {
   "cell_type": "code",
   "execution_count": 1,
   "id": "6e14043e",
   "metadata": {},
   "outputs": [],
   "source": [
    "import pandas as pd"
   ]
  },
  {
   "cell_type": "code",
   "execution_count": null,
   "id": "3c12fc62",
   "metadata": {},
   "outputs": [],
   "source": []
  },
  {
   "cell_type": "code",
   "execution_count": null,
   "id": "45a91999",
   "metadata": {},
   "outputs": [],
   "source": [
    "actor = pd.read_csv(\"res.csv\")\n",
    "columns_delete = []\n",
    "for c in actor.columns:\n",
    "    if not (\"DBLP\" in c and  \"ratio\" in c):\n",
    "        columns_delete.append(c) \n",
    "actor.drop(columns_delete, axis=1)\n",
    "actor.to_csv(\"perf_dblp.csv\")"
   ]
  }
 ],
 "metadata": {
  "kernelspec": {
   "display_name": ".venv",
   "language": "python",
   "name": "python3"
  },
  "language_info": {
   "codemirror_mode": {
    "name": "ipython",
    "version": 3
   },
   "file_extension": ".py",
   "mimetype": "text/x-python",
   "name": "python",
   "nbconvert_exporter": "python",
   "pygments_lexer": "ipython3",
   "version": "3.10.16"
  }
 },
 "nbformat": 4,
 "nbformat_minor": 5
}
